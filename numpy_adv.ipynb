{
 "cells": [
  {
   "cell_type": "code",
   "execution_count": 17,
   "id": "268987f8-de1b-4dec-8ee9-53e49cba360c",
   "metadata": {},
   "outputs": [
    {
     "name": "stdout",
     "output_type": "stream",
     "text": [
      "[1 2 3]\n",
      "<class 'numpy.ndarray'>\n",
      "(3,)\n",
      "[4, 7, 8, 12]\n",
      "<class 'list'>\n",
      "1 2 3\n",
      "[5 2 3]\n",
      "(2, 3)\n",
      "1 2 4\n"
     ]
    }
   ],
   "source": [
    "\n",
    "import numpy as np #import the numpy package\n",
    "\n",
    "a= np.array([1,2,3]) # create a rank 1 array \n",
    "b= [4,7,8,12] # create a list\n",
    "\n",
    "print(a) #prints [1 2 3]\n",
    "print (type(a)) #prints <class 'numpy.ndarray'>\n",
    "print(a.shape) #prints (3,)\n",
    "print(b) #prints [4, 7, 8, 12]\n",
    "print (type(b)) #prints <class 'list'>\n",
    "\n",
    "print(a[0], a[1], a[2]) # Prints \"1 2 3\"\n",
    "a[0] = 5 # Change an element of the array\n",
    "print(a) # Prints \"[5, 2, 3]\"\n",
    "\n",
    "b = np.array([[1,2,3],[4,5,6]]) # Create a rank 2 array\n",
    "print(b.shape) # Prints \"(2, 3)\"\n",
    "\n",
    "print(b[0, 0], b[0, 1], b[1, 0]) # Prints \"1 2 4\"\n"
   ]
  },
  {
   "cell_type": "code",
   "execution_count": 45,
   "id": "84e71eb8-b6c5-461e-bede-4f0ed6d2f2cb",
   "metadata": {},
   "outputs": [
    {
     "name": "stdout",
     "output_type": "stream",
     "text": [
      "[[0. 0.]\n",
      " [0. 0.]]\n",
      "[[1. 1.]]\n",
      "[[7 7]\n",
      " [7 7]]\n",
      "[[1. 0.]\n",
      " [0. 1.]]\n",
      "[[0.85424998 0.89366673]\n",
      " [0.3973625  0.57264937]]\n",
      "0\n"
     ]
    },
    {
     "data": {
      "text/plain": [
       "(array([2.  , 2.25, 2.5 , 2.75, 3.  ]), 0.25)"
      ]
     },
     "execution_count": 45,
     "metadata": {},
     "output_type": "execute_result"
    }
   ],
   "source": [
    "#Numpy also provides many functions to create arrays:\n",
    "\n",
    "import numpy as np\n",
    "a = np.zeros((2,2)) # Create an array of all zeros\n",
    "print(a) # Prints \"[[ 0. 0.]\n",
    "                 # [ 0. 0.]]\"\n",
    "\n",
    "b = np.ones((1,2)) # Create an array of all ones\n",
    "print(b) # Prints \"[[ 1. 1.]]\"\n",
    "\n",
    "c = np.full((2,2), 7) # Create a constant array\n",
    "print(c) # Prints \"[[ 7. 7.]\n",
    "                 # [ 7. 7.]]\"\n",
    "\n",
    "d = np.eye(2) # Create a 2x2 identity matrix\n",
    "print(d) # Prints \"[[ 1. 0.]\n",
    "                 # [ 0. 1.]]\"\n",
    "\n",
    "e = np.random.random((2,2)) # Create an array filled with random values\n",
    "print(e) # Might print \"[[ 0.91940167 0.08143941]\n",
    "                        # [ 0.68744134 0.87236687]]\"\n",
    "\n",
    "#explore randint and linspace \n",
    "# Generates a random number between\n",
    "# a given positive range\n",
    "r1 = np.random.randint(0, 10)\n",
    "print((r1))\n",
    "\n",
    "\n",
    "#linspace Return evenly spaced numbers over a specified interval.\n",
    "#Returns num evenly spaced samples, calculated over the interval [start, stop].\n",
    "#The endpoint of the interval can optionally be excluded.\n",
    "np.linspace(2.0, 3.0, num=5)\n",
    "#array([2.  , 2.25, 2.5 , 2.75, 3.  ])\n",
    "np.linspace(2.0, 3.0, num=5, endpoint=False)\n",
    "#array([2. ,  2.2,  2.4,  2.6,  2.8])\n",
    "np.linspace(2.0, 3.0, num=5, retstep=True)\n",
    "#(array([2.  ,  2.25,  2.5 ,  2.75,  3.  ]), 0.25)"
   ]
  },
  {
   "cell_type": "code",
   "execution_count": 47,
   "id": "d4131d2c-0236-48eb-b7a6-441e55cda556",
   "metadata": {},
   "outputs": [
    {
     "name": "stdout",
     "output_type": "stream",
     "text": [
      "2\n",
      "77\n"
     ]
    }
   ],
   "source": [
    "import numpy as np\n",
    "\n",
    "# Create the following rank 2 array with shape (3, 4)\n",
    "# [[ 1 2 3 4]\n",
    "# [ 5 6 7 8]\n",
    "# [ 9 10 11 12]]\n",
    "a = np.array([[1,2,3,4], [5,6,7,8], [9,10,11,12]])\n",
    "\n",
    "# Use slicing to pull out the subarray consisting of the first 2 rows\n",
    "# and columns 1 and 2; b is the following array of shape (2, 2):\n",
    "# [[2 3]\n",
    "# [6 7]]\n",
    "b = a[:2, 1:3]\n",
    "\n",
    "# A slice of an array is a view into the same data, so modifying it\n",
    "# will modify the original array.\n",
    "print(a[0, 1]) # Prints \"2\n",
    "b[0, 0] = 77 # b[0, 0] is the same piece of data as a[0, 1]\n",
    "print(a[0, 1]) # Prints \"77\""
   ]
  },
  {
   "cell_type": "code",
   "execution_count": 62,
   "id": "dbd1b021-8041-4003-a317-35cece618184",
   "metadata": {},
   "outputs": [
    {
     "name": "stdout",
     "output_type": "stream",
     "text": [
      "[5 6 7 8] (4,)\n",
      "[[5 6 7 8]] (1, 4)\n",
      "[ 2  6 10] (3,)\n",
      "[[ 2]\n",
      " [ 6]\n",
      " [10]] (3, 1)\n",
      "[[ 1  2  3  4]\n",
      " [ 5  6  7  8]\n",
      " [ 9 10 11 12]]\n",
      "[[2 3]\n",
      " [6 7]]\n",
      "[[ 9 10]]\n",
      "[[2 3 4]\n",
      " [6 7 8]]\n",
      "[[2]\n",
      " [6]]\n",
      "[[3]\n",
      " [7]]\n",
      "[]\n"
     ]
    }
   ],
   "source": [
    "import numpy as np\n",
    "# Create the following rank 2 array with shape (3, 4)\n",
    "# [[ 1 2 3 4]\n",
    "# [ 5 6 7 8]\n",
    "# [ 9 10 11 12]]\n",
    "a = np.array([[1,2,3,4], [5,6,7,8], [9,10,11,12]])\n",
    "\n",
    "# Two ways of accessing the data in the middle row of the array.\n",
    "# Mixing integer indexing with slices yields an array of lower rank,\n",
    "# while using only slices yields an array of the same rank as the\n",
    "# original array:\n",
    "row_r1 = a[1, :] # Rank 1 view of the second row of a\n",
    "row_r2 = a[1:2, :] # Rank 2 view of the second row of a\n",
    "print(row_r1, row_r1.shape) # Prints \"[5 6 7 8] (4,)\"\n",
    "print(row_r2, row_r2.shape) # Prints \"[[5 6 7 8]] (1, 4)\"\n",
    "\n",
    "# We can make the same distinction when accessing columns of an array:\n",
    "col_r1 = a[:, 1]\n",
    "col_r2 = a[:, 1:2]\n",
    "print(col_r1, col_r1.shape) # Prints \"[ 2 6 10] (3,)\"\n",
    "print(col_r2, col_r2.shape) # Prints \"[[ 2]\n",
    " # [ 6]\n",
    " # [10]] (3, 1)\"\n",
    "\n",
    "#assignment\n",
    "print(a[ : : ])\n",
    "print(a[:2,1:3])\n",
    "print(a[2:3,0:2])\n",
    "print(a[:2,1:])\n",
    "print(a[0:2,1:2])\n",
    "print(a[-3:-1,-2:-1])\n",
    "print(a[-2:1,1:3])"
   ]
  },
  {
   "cell_type": "code",
   "execution_count": 64,
   "id": "504caa98-30d9-4a0f-ba8a-17bd314e76ce",
   "metadata": {},
   "outputs": [
    {
     "name": "stdout",
     "output_type": "stream",
     "text": [
      "[1 4 5]\n",
      "[1 4 5]\n",
      "[2 2]\n",
      "[2 2]\n"
     ]
    }
   ],
   "source": [
    "import numpy as np\n",
    "a = np.array([[1,2], [3, 4], [5, 6]])\n",
    "\n",
    "# An example of integer array indexing.\n",
    "# The returned array will have shape (3,) and\n",
    "print(a[[0, 1, 2], [0, 1, 0]]) # Prints \"[1 4 5]\"\n",
    "\n",
    "# The above example of integer array indexing is equivalent to this:\n",
    "print(np.array([a[0, 0], a[1, 1], a[2, 0]])) # Prints \"[1 4 5]\"\n",
    "\n",
    "# When using integer array indexing, you can reuse the same\n",
    "# element from the source array:\n",
    "print(a[[0, 0], [1, 1]]) # Prints \"[2 2]\"\n",
    "\n",
    "# Equivalent to the previous integer array indexing example\n",
    "print(np.array([a[0, 1], a[0, 1]])) # Prints \"[2 2]\"\n"
   ]
  },
  {
   "cell_type": "code",
   "execution_count": 70,
   "id": "b32f18d0-40c6-4c5c-95f7-87008b13a852",
   "metadata": {},
   "outputs": [
    {
     "name": "stdout",
     "output_type": "stream",
     "text": [
      "[[ 1  2  3]\n",
      " [ 4  5  6]\n",
      " [ 7  8  9]\n",
      " [10 11 12]]\n",
      "[ 1  6  7 11]\n",
      "[[11  2  3]\n",
      " [ 4  5 16]\n",
      " [17  8  9]\n",
      " [10 21 12]]\n"
     ]
    }
   ],
   "source": [
    "import numpy as np\n",
    "# Create a new array from which we will select elements\n",
    "a = np.array([[1,2,3], [4,5,6], [7,8,9], [10, 11, 12]])\n",
    "print(a) # prints \"array([[ 1, 2, 3],\n",
    " # [ 4, 5, 6],\n",
    " # [ 7, 8, 9],\n",
    " # [10, 11, 12]])\"\n",
    "\n",
    "# Create an array of indices\n",
    "b = np.array([0, 2, 0, 1])\n",
    "\n",
    "# Select one element from each row of a using the indices in b\n",
    "print(a[np.arange(4), b]) # Prints \"[ 1 6 7 11]\"\n",
    "\n",
    "# Mutate one element from each row of a using the indices in b\n",
    "a[np.arange(4), b] += 10\n",
    "print(a) # prints \"array([[11, 2, 3],\n",
    "                        # [ 4, 5, 16],\n",
    "                        # [17, 8, 9],\n",
    "                        # [10, 21, 12]])\n"
   ]
  },
  {
   "cell_type": "code",
   "execution_count": 68,
   "id": "db86ddf3-3edf-4ddf-aa50-262945504dbf",
   "metadata": {},
   "outputs": [
    {
     "name": "stdout",
     "output_type": "stream",
     "text": [
      "[[False False]\n",
      " [ True  True]\n",
      " [ True  True]]\n",
      "[3 4 5 6]\n",
      "[3 4 5 6]\n"
     ]
    }
   ],
   "source": [
    "import numpy as np\n",
    "a = np.array([[1,2], [3, 4], [5, 6]])\n",
    "bool_idx = (a > 2) # Find the elements of a that are bigger than 2;\n",
    " # this returns a numpy array of Booleans of the same\n",
    " # shape as a, where each slot of bool_idx tells\n",
    " # whether that element of a is > 2.\n",
    "\n",
    "print(bool_idx) # Prints \"[[False False]\n",
    " # [ True True]\n",
    " # [ True True]]\"\n",
    "# We use boolean array indexing to construct a rank 1 array\n",
    "# consisting of the elements of a corresponding to the True values\n",
    "# of bool_idx\n",
    "\n",
    "print(a[bool_idx]) # Prints \"[3 4 5 6]\"\n",
    "# We can do all of the above in a single concise statement:\n",
    "print(a[a > 2]) # Prints \"[3 4 5 6]\""
   ]
  },
  {
   "cell_type": "code",
   "execution_count": 72,
   "id": "8354db3c-114f-41f4-9c70-c1723dc3d7d7",
   "metadata": {},
   "outputs": [
    {
     "name": "stdout",
     "output_type": "stream",
     "text": [
      "int32\n",
      "float64\n",
      "int64\n"
     ]
    }
   ],
   "source": [
    "import numpy as np\n",
    "x = np.array([1, 2]) # Let numpy choose the datatype\n",
    "print(x.dtype) # Prints \"int64\"\n",
    "x = np.array([1.0, 2.0]) # Let numpy choose the datatype\n",
    "print(x.dtype) # Prints \"float64\"\n",
    "x = np.array([1, 2], dtype=np.int64) # Force a particular datatype\n",
    "print(x.dtype) # Prints \"int64\"\n"
   ]
  },
  {
   "cell_type": "code",
   "execution_count": 74,
   "id": "d4578e21-a53e-4926-9a88-d40f4626d35d",
   "metadata": {},
   "outputs": [
    {
     "name": "stdout",
     "output_type": "stream",
     "text": [
      "[[ 6.  8.]\n",
      " [10. 12.]]\n",
      "[[ 6.  8.]\n",
      " [10. 12.]]\n",
      "[[-4. -4.]\n",
      " [-4. -4.]]\n",
      "[[-4. -4.]\n",
      " [-4. -4.]]\n",
      "[[ 5. 12.]\n",
      " [21. 32.]]\n",
      "[[ 5. 12.]\n",
      " [21. 32.]]\n",
      "[[0.2        0.33333333]\n",
      " [0.42857143 0.5       ]]\n",
      "[[0.2        0.33333333]\n",
      " [0.42857143 0.5       ]]\n",
      "[[1.         1.41421356]\n",
      " [1.73205081 2.        ]]\n"
     ]
    }
   ],
   "source": [
    "import numpy as np\n",
    "x = np.array([[1,2],[3,4]], dtype=np.float64)\n",
    "y = np.array([[5,6],[7,8]], dtype=np.float64)\n",
    "# Elementwise sum; both produce the array\n",
    "# [[ 6.0 8.0]\n",
    "# [10.0 12.0]]\n",
    "print(x + y)\n",
    "print(np.add(x, y))\n",
    "# Elementwise difference; both produce the array\n",
    "# [[-4.0 -4.0]\n",
    "# [-4.0 -4.0]]\n",
    "print(x - y)\n",
    "print(np.subtract(x, y))\n",
    "# Elementwise product; both produce the array\n",
    "# [[ 5.0 12.0]\n",
    "# [21.0 32.0]]\n",
    "print(x * y)\n",
    "print(np.multiply(x, y))\n",
    "# Elementwise division; both produce the array\n",
    "# [[ 0.2 0.33333333]\n",
    "# [ 0.42857143 0.5 ]]\n",
    "print(x / y)\n",
    "print(np.divide(x, y))\n",
    "# Elementwise square root; produces the array\n",
    "# [[ 1. 1.41421356]\n",
    "# [ 1.73205081 2. ]]\n",
    "print(np.sqrt(x))\n"
   ]
  },
  {
   "cell_type": "code",
   "execution_count": 78,
   "id": "58853db2-399e-42ef-b0ce-eb48eb0c5c61",
   "metadata": {},
   "outputs": [
    {
     "name": "stdout",
     "output_type": "stream",
     "text": [
      "219\n",
      "219\n",
      "[29 67]\n",
      "[29 67]\n",
      "[[19 22]\n",
      " [43 50]]\n",
      "[[19 22]\n",
      " [43 50]]\n",
      "10\n",
      "[4 6]\n",
      "[3 7]\n"
     ]
    }
   ],
   "source": [
    "import numpy as np\n",
    "x = np.array([[1,2],[3,4]])\n",
    "y = np.array([[5,6],[7,8]])\n",
    "v = np.array([9,10])\n",
    "w = np.array([11, 12])\n",
    "# Inner product of vectors; both produce 219\n",
    "print(v.dot(w))\n",
    "print(np.dot(v, w))\n",
    "# Matrix / vector product; both produce the rank 1 array [29 67]\n",
    "print(x.dot(v))\n",
    "print(np.dot(x, v))\n",
    "# Matrix / matrix product; both produce the rank 2 array\n",
    "# [[19 22]\n",
    "# [43 50]]\n",
    "print(x.dot(y))\n",
    "print(np.dot(x, y))\n",
    "#Numpy provides many useful functions for performing computations on arrays; one of the most useful is sum:\n",
    "import numpy as np\n",
    "x = np.array([[1,2],[3,4]])\n",
    "print(np.sum(x)) # Compute sum of all elements; prints \"10\"\n",
    "print(np.sum(x, axis=0)) # Compute sum of each column; prints \"[4 6]\"\n",
    "print(np.sum(x, axis=1)) # Compute sum of each row; prints \"[3 7]\"\n"
   ]
  },
  {
   "cell_type": "code",
   "execution_count": 80,
   "id": "9d8eb1af-7408-44d3-ae1c-c8873e06e3b2",
   "metadata": {},
   "outputs": [
    {
     "name": "stdout",
     "output_type": "stream",
     "text": [
      "[[1 2]\n",
      " [3 4]]\n",
      "[[1 3]\n",
      " [2 4]]\n",
      "[1 2 3]\n",
      "[1 2 3]\n"
     ]
    }
   ],
   "source": [
    "import numpy as np\n",
    "x = np.array([[1,2], [3,4]])\n",
    "print(x) # Prints \"[[1 2]\n",
    " # [3 4]]\"\n",
    "print(x.T) # Prints \"[[1 3]\n",
    " # [2 4]]\"\n",
    " # Note that taking the transpose of a rank 1 array does nothing:\n",
    "v = np.array([1,2,3])\n",
    "print(v) # Prints \"[1 2 3]\"\n",
    "print(v.T) # Prints \"[1 2 3]\""
   ]
  },
  {
   "cell_type": "code",
   "execution_count": null,
   "id": "83b45d57-d51f-4752-a95b-90e94d48d707",
   "metadata": {},
   "outputs": [],
   "source": []
  }
 ],
 "metadata": {
  "kernelspec": {
   "display_name": "Python 3 (ipykernel)",
   "language": "python",
   "name": "python3"
  },
  "language_info": {
   "codemirror_mode": {
    "name": "ipython",
    "version": 3
   },
   "file_extension": ".py",
   "mimetype": "text/x-python",
   "name": "python",
   "nbconvert_exporter": "python",
   "pygments_lexer": "ipython3",
   "version": "3.12.4"
  }
 },
 "nbformat": 4,
 "nbformat_minor": 5
}
